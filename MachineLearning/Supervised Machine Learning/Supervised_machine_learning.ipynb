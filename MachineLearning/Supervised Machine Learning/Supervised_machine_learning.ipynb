{
 "cells": [
  {
   "cell_type": "code",
   "execution_count": 176,
   "id": "a82cb979-9138-4e20-bfe4-8a9cd8e8ea8e",
   "metadata": {},
   "outputs": [],
   "source": [
    "# @software{reback2020pandas,\n",
    "#     author       = {The pandas development team},\n",
    "#     title        = {pandas-dev/pandas: Pandas},\n",
    "#     month        = feb,\n",
    "#     year         = 2020,\n",
    "#     url          = {https://doi.org/10.5281/zenodo.3509134}\n",
    "# }\n",
    "\n",
    "import pandas as pd\n",
    "\n"
   ]
  },
  {
   "cell_type": "code",
   "execution_count": 177,
   "id": "d85edc93-31c3-43a8-bf72-ee6da51adf34",
   "metadata": {},
   "outputs": [
    {
     "name": "stdout",
     "output_type": "stream",
     "text": [
      "Collecting https://github.com/ydataai/pandas-profiling/archive/master.zip\n",
      "  Using cached https://github.com/ydataai/pandas-profiling/archive/master.zip\n",
      "  Preparing metadata (setup.py) ... \u001b[?25ldone\n",
      "\u001b[?25hRequirement already satisfied: joblib~=1.1.0 in /opt/conda/lib/python3.9/site-packages (from pandas-profiling==3.2.0) (1.1.0)\n",
      "Requirement already satisfied: scipy>=1.4.1 in /opt/conda/lib/python3.9/site-packages (from pandas-profiling==3.2.0) (1.7.3)\n",
      "Requirement already satisfied: pandas!=1.0.0,!=1.0.1,!=1.0.2,!=1.1.0,>=0.25.3 in /opt/conda/lib/python3.9/site-packages (from pandas-profiling==3.2.0) (1.3.5)\n",
      "Requirement already satisfied: matplotlib>=3.2.0 in /opt/conda/lib/python3.9/site-packages (from pandas-profiling==3.2.0) (3.5.1)\n",
      "Requirement already satisfied: pydantic>=1.8.1 in /opt/conda/lib/python3.9/site-packages (from pandas-profiling==3.2.0) (1.9.2)\n",
      "Requirement already satisfied: PyYAML>=5.0.0 in /opt/conda/lib/python3.9/site-packages (from pandas-profiling==3.2.0) (6.0)\n",
      "Requirement already satisfied: jinja2>=2.11.1 in /opt/conda/lib/python3.9/site-packages (from pandas-profiling==3.2.0) (3.0.3)\n",
      "Requirement already satisfied: visions[type_image_path]==0.7.5 in /opt/conda/lib/python3.9/site-packages (from pandas-profiling==3.2.0) (0.7.5)\n",
      "Requirement already satisfied: numpy>=1.16.0 in /opt/conda/lib/python3.9/site-packages (from pandas-profiling==3.2.0) (1.20.3)\n",
      "Requirement already satisfied: htmlmin>=0.1.12 in /opt/conda/lib/python3.9/site-packages (from pandas-profiling==3.2.0) (0.1.12)\n",
      "Requirement already satisfied: missingno>=0.4.2 in /opt/conda/lib/python3.9/site-packages (from pandas-profiling==3.2.0) (0.5.1)\n",
      "Requirement already satisfied: phik>=0.11.1 in /opt/conda/lib/python3.9/site-packages (from pandas-profiling==3.2.0) (0.12.2)\n",
      "Requirement already satisfied: tangled-up-in-unicode==0.2.0 in /opt/conda/lib/python3.9/site-packages (from pandas-profiling==3.2.0) (0.2.0)\n",
      "Requirement already satisfied: requests>=2.24.0 in /opt/conda/lib/python3.9/site-packages (from pandas-profiling==3.2.0) (2.27.1)\n",
      "Requirement already satisfied: tqdm>=4.48.2 in /opt/conda/lib/python3.9/site-packages (from pandas-profiling==3.2.0) (4.62.3)\n",
      "Requirement already satisfied: seaborn>=0.10.1 in /opt/conda/lib/python3.9/site-packages (from pandas-profiling==3.2.0) (0.11.2)\n",
      "Requirement already satisfied: multimethod>=1.4 in /opt/conda/lib/python3.9/site-packages (from pandas-profiling==3.2.0) (1.8)\n",
      "Requirement already satisfied: networkx>=2.4 in /opt/conda/lib/python3.9/site-packages (from visions[type_image_path]==0.7.5->pandas-profiling==3.2.0) (2.6.3)\n",
      "Requirement already satisfied: attrs>=19.3.0 in /opt/conda/lib/python3.9/site-packages (from visions[type_image_path]==0.7.5->pandas-profiling==3.2.0) (21.4.0)\n",
      "Requirement already satisfied: imagehash in /opt/conda/lib/python3.9/site-packages (from visions[type_image_path]==0.7.5->pandas-profiling==3.2.0) (4.2.1)\n",
      "Requirement already satisfied: Pillow in /opt/conda/lib/python3.9/site-packages (from visions[type_image_path]==0.7.5->pandas-profiling==3.2.0) (8.4.0)\n",
      "Requirement already satisfied: MarkupSafe>=2.0 in /opt/conda/lib/python3.9/site-packages (from jinja2>=2.11.1->pandas-profiling==3.2.0) (2.0.1)\n",
      "Requirement already satisfied: packaging>=20.0 in /opt/conda/lib/python3.9/site-packages (from matplotlib>=3.2.0->pandas-profiling==3.2.0) (21.3)\n",
      "Requirement already satisfied: kiwisolver>=1.0.1 in /opt/conda/lib/python3.9/site-packages (from matplotlib>=3.2.0->pandas-profiling==3.2.0) (1.3.2)\n",
      "Requirement already satisfied: fonttools>=4.22.0 in /opt/conda/lib/python3.9/site-packages (from matplotlib>=3.2.0->pandas-profiling==3.2.0) (4.28.5)\n",
      "Requirement already satisfied: pyparsing>=2.2.1 in /opt/conda/lib/python3.9/site-packages (from matplotlib>=3.2.0->pandas-profiling==3.2.0) (3.0.6)\n",
      "Requirement already satisfied: python-dateutil>=2.7 in /opt/conda/lib/python3.9/site-packages (from matplotlib>=3.2.0->pandas-profiling==3.2.0) (2.8.2)\n",
      "Requirement already satisfied: cycler>=0.10 in /opt/conda/lib/python3.9/site-packages (from matplotlib>=3.2.0->pandas-profiling==3.2.0) (0.11.0)\n",
      "Requirement already satisfied: pytz>=2017.3 in /opt/conda/lib/python3.9/site-packages (from pandas!=1.0.0,!=1.0.1,!=1.0.2,!=1.1.0,>=0.25.3->pandas-profiling==3.2.0) (2021.3)\n",
      "Requirement already satisfied: typing-extensions>=3.7.4.3 in /opt/conda/lib/python3.9/site-packages (from pydantic>=1.8.1->pandas-profiling==3.2.0) (4.0.1)\n",
      "Requirement already satisfied: charset-normalizer~=2.0.0 in /opt/conda/lib/python3.9/site-packages (from requests>=2.24.0->pandas-profiling==3.2.0) (2.0.10)\n",
      "Requirement already satisfied: idna<4,>=2.5 in /opt/conda/lib/python3.9/site-packages (from requests>=2.24.0->pandas-profiling==3.2.0) (3.1)\n",
      "Requirement already satisfied: urllib3<1.27,>=1.21.1 in /opt/conda/lib/python3.9/site-packages (from requests>=2.24.0->pandas-profiling==3.2.0) (1.26.8)\n",
      "Requirement already satisfied: certifi>=2017.4.17 in /opt/conda/lib/python3.9/site-packages (from requests>=2.24.0->pandas-profiling==3.2.0) (2021.10.8)\n",
      "Requirement already satisfied: six>=1.5 in /opt/conda/lib/python3.9/site-packages (from python-dateutil>=2.7->matplotlib>=3.2.0->pandas-profiling==3.2.0) (1.16.0)\n",
      "Requirement already satisfied: PyWavelets in /opt/conda/lib/python3.9/site-packages (from imagehash->visions[type_image_path]==0.7.5->pandas-profiling==3.2.0) (1.2.0)\n",
      "Note: you may need to restart the kernel to use updated packages.\n"
     ]
    }
   ],
   "source": [
    "pip install https://github.com/ydataai/pandas-profiling/archive/master.zip"
   ]
  },
  {
   "cell_type": "code",
   "execution_count": 178,
   "id": "2a27db3e-f7d5-4cba-a121-bc8585b34b43",
   "metadata": {},
   "outputs": [],
   "source": [
    "# @Article{         harris2020array,\n",
    "#  title         = {Array programming with {NumPy}},\n",
    "#  author        = {Charles R. Harris and K. Jarrod Millman and St{\\'{e}}fan J.\n",
    "#                  van der Walt and Ralf Gommers and Pauli Virtanen and David\n",
    "#                  Cournapeau and Eric Wieser and Julian Taylor and Sebastian\n",
    "#                  Berg and Nathaniel J. Smith and Robert Kern and Matti Picus\n",
    "#                  and Stephan Hoyer and Marten H. van Kerkwijk and Matthew\n",
    "#                  Brett and Allan Haldane and Jaime Fern{\\'{a}}ndez del\n",
    "#                  R{\\'{i}}o and Mark Wiebe and Pearu Peterson and Pierre\n",
    "#                  G{\\'{e}}rard-Marchant and Kevin Sheppard and Tyler Reddy and\n",
    "#                  Warren Weckesser and Hameer Abbasi and Christoph Gohlke and\n",
    "#                  Travis E. Oliphant},\n",
    "#  year          = {2020},\n",
    "#  month         = sep,\n",
    "#  url           = {https://doi.org/10.1038/s41586-020-2649-2}\n",
    "# }\n",
    "import numpy as np\n",
    "\n",
    "# @Article{Hunter:2007,\n",
    "#   Author    = {Hunter, J. D.},\n",
    "#   Title     = {Matplotlib: A 2D graphics environment},\n",
    "#   doi       = {10.1109/MCSE.2007.55},\n",
    "#   year      = 2007\n",
    "# }\n",
    "import matplotlib\n",
    "import matplotlib.pyplot as plt\n",
    "import matplotlib.ticker as mtick\n",
    "\n",
    "\n",
    "# @article{Waskom2021,\n",
    "#     url = {https://doi.org/10.21105/joss.03021},\n",
    "#     year = {2021},\n",
    "#     author = {Michael L. Waskom},\n",
    "#     title = {seaborn: statistical data visualization}\n",
    "#  }\n",
    "import seaborn as sns\n",
    "from pandas_profiling import ProfileReport"
   ]
  },
  {
   "cell_type": "code",
   "execution_count": 179,
   "id": "1d53809c-a3fb-41b7-a30f-bc01522387cd",
   "metadata": {},
   "outputs": [],
   "source": [
    "df = pd.read_csv('trainingDataClean.csv',index_col=False)"
   ]
  },
  {
   "cell_type": "code",
   "execution_count": 180,
   "id": "443687ed-25e1-4ac6-83a8-3842f6961ae8",
   "metadata": {},
   "outputs": [
    {
     "data": {
      "text/html": [
       "<div>\n",
       "<style scoped>\n",
       "    .dataframe tbody tr th:only-of-type {\n",
       "        vertical-align: middle;\n",
       "    }\n",
       "\n",
       "    .dataframe tbody tr th {\n",
       "        vertical-align: top;\n",
       "    }\n",
       "\n",
       "    .dataframe thead th {\n",
       "        text-align: right;\n",
       "    }\n",
       "</style>\n",
       "<table border=\"1\" class=\"dataframe\">\n",
       "  <thead>\n",
       "    <tr style=\"text-align: right;\">\n",
       "      <th></th>\n",
       "      <th>Age</th>\n",
       "      <th>Gender</th>\n",
       "      <th>Body_temperature</th>\n",
       "      <th>Dry_cough</th>\n",
       "      <th>Sore_throat</th>\n",
       "      <th>Weakness</th>\n",
       "      <th>Breathing_problem</th>\n",
       "      <th>Drowsiness</th>\n",
       "      <th>Pain_in_chest</th>\n",
       "      <th>Travel_history_to_infected_countries</th>\n",
       "      <th>Diabetes</th>\n",
       "      <th>Heart_disease</th>\n",
       "      <th>Lung_disease</th>\n",
       "      <th>Stroke_or_reduced_immunity</th>\n",
       "      <th>Symptoms_progressed</th>\n",
       "      <th>High_blood_pressue</th>\n",
       "      <th>Kidney_disease</th>\n",
       "      <th>Change_in_appetite</th>\n",
       "      <th>Loss_of_sense_of_smell</th>\n",
       "      <th>Corona_result</th>\n",
       "    </tr>\n",
       "  </thead>\n",
       "  <tbody>\n",
       "    <tr>\n",
       "      <th>0</th>\n",
       "      <td>1</td>\n",
       "      <td>0</td>\n",
       "      <td>102</td>\n",
       "      <td>0</td>\n",
       "      <td>0</td>\n",
       "      <td>1</td>\n",
       "      <td>0</td>\n",
       "      <td>1</td>\n",
       "      <td>0</td>\n",
       "      <td>0</td>\n",
       "      <td>1</td>\n",
       "      <td>1</td>\n",
       "      <td>0</td>\n",
       "      <td>0</td>\n",
       "      <td>0</td>\n",
       "      <td>1</td>\n",
       "      <td>1</td>\n",
       "      <td>1</td>\n",
       "      <td>0</td>\n",
       "      <td>0</td>\n",
       "    </tr>\n",
       "    <tr>\n",
       "      <th>1</th>\n",
       "      <td>0</td>\n",
       "      <td>0</td>\n",
       "      <td>99</td>\n",
       "      <td>0</td>\n",
       "      <td>0</td>\n",
       "      <td>0</td>\n",
       "      <td>0</td>\n",
       "      <td>0</td>\n",
       "      <td>0</td>\n",
       "      <td>1</td>\n",
       "      <td>1</td>\n",
       "      <td>0</td>\n",
       "      <td>0</td>\n",
       "      <td>0</td>\n",
       "      <td>1</td>\n",
       "      <td>1</td>\n",
       "      <td>0</td>\n",
       "      <td>0</td>\n",
       "      <td>0</td>\n",
       "      <td>1</td>\n",
       "    </tr>\n",
       "    <tr>\n",
       "      <th>2</th>\n",
       "      <td>1</td>\n",
       "      <td>1</td>\n",
       "      <td>100</td>\n",
       "      <td>0</td>\n",
       "      <td>1</td>\n",
       "      <td>1</td>\n",
       "      <td>1</td>\n",
       "      <td>0</td>\n",
       "      <td>1</td>\n",
       "      <td>1</td>\n",
       "      <td>0</td>\n",
       "      <td>0</td>\n",
       "      <td>0</td>\n",
       "      <td>0</td>\n",
       "      <td>0</td>\n",
       "      <td>0</td>\n",
       "      <td>0</td>\n",
       "      <td>0</td>\n",
       "      <td>0</td>\n",
       "      <td>1</td>\n",
       "    </tr>\n",
       "    <tr>\n",
       "      <th>3</th>\n",
       "      <td>1</td>\n",
       "      <td>1</td>\n",
       "      <td>99</td>\n",
       "      <td>0</td>\n",
       "      <td>0</td>\n",
       "      <td>0</td>\n",
       "      <td>1</td>\n",
       "      <td>0</td>\n",
       "      <td>0</td>\n",
       "      <td>1</td>\n",
       "      <td>0</td>\n",
       "      <td>0</td>\n",
       "      <td>1</td>\n",
       "      <td>0</td>\n",
       "      <td>1</td>\n",
       "      <td>0</td>\n",
       "      <td>0</td>\n",
       "      <td>0</td>\n",
       "      <td>1</td>\n",
       "      <td>2</td>\n",
       "    </tr>\n",
       "    <tr>\n",
       "      <th>4</th>\n",
       "      <td>0</td>\n",
       "      <td>0</td>\n",
       "      <td>101</td>\n",
       "      <td>0</td>\n",
       "      <td>0</td>\n",
       "      <td>0</td>\n",
       "      <td>0</td>\n",
       "      <td>0</td>\n",
       "      <td>0</td>\n",
       "      <td>0</td>\n",
       "      <td>0</td>\n",
       "      <td>0</td>\n",
       "      <td>0</td>\n",
       "      <td>0</td>\n",
       "      <td>1</td>\n",
       "      <td>0</td>\n",
       "      <td>0</td>\n",
       "      <td>0</td>\n",
       "      <td>0</td>\n",
       "      <td>0</td>\n",
       "    </tr>\n",
       "    <tr>\n",
       "      <th>...</th>\n",
       "      <td>...</td>\n",
       "      <td>...</td>\n",
       "      <td>...</td>\n",
       "      <td>...</td>\n",
       "      <td>...</td>\n",
       "      <td>...</td>\n",
       "      <td>...</td>\n",
       "      <td>...</td>\n",
       "      <td>...</td>\n",
       "      <td>...</td>\n",
       "      <td>...</td>\n",
       "      <td>...</td>\n",
       "      <td>...</td>\n",
       "      <td>...</td>\n",
       "      <td>...</td>\n",
       "      <td>...</td>\n",
       "      <td>...</td>\n",
       "      <td>...</td>\n",
       "      <td>...</td>\n",
       "      <td>...</td>\n",
       "    </tr>\n",
       "    <tr>\n",
       "      <th>9994</th>\n",
       "      <td>1</td>\n",
       "      <td>1</td>\n",
       "      <td>103</td>\n",
       "      <td>0</td>\n",
       "      <td>1</td>\n",
       "      <td>0</td>\n",
       "      <td>1</td>\n",
       "      <td>0</td>\n",
       "      <td>1</td>\n",
       "      <td>1</td>\n",
       "      <td>0</td>\n",
       "      <td>0</td>\n",
       "      <td>0</td>\n",
       "      <td>0</td>\n",
       "      <td>1</td>\n",
       "      <td>0</td>\n",
       "      <td>0</td>\n",
       "      <td>0</td>\n",
       "      <td>1</td>\n",
       "      <td>2</td>\n",
       "    </tr>\n",
       "    <tr>\n",
       "      <th>9995</th>\n",
       "      <td>0</td>\n",
       "      <td>1</td>\n",
       "      <td>99</td>\n",
       "      <td>1</td>\n",
       "      <td>1</td>\n",
       "      <td>1</td>\n",
       "      <td>1</td>\n",
       "      <td>0</td>\n",
       "      <td>1</td>\n",
       "      <td>0</td>\n",
       "      <td>0</td>\n",
       "      <td>0</td>\n",
       "      <td>1</td>\n",
       "      <td>1</td>\n",
       "      <td>0</td>\n",
       "      <td>0</td>\n",
       "      <td>0</td>\n",
       "      <td>0</td>\n",
       "      <td>0</td>\n",
       "      <td>1</td>\n",
       "    </tr>\n",
       "    <tr>\n",
       "      <th>9996</th>\n",
       "      <td>0</td>\n",
       "      <td>1</td>\n",
       "      <td>99</td>\n",
       "      <td>1</td>\n",
       "      <td>0</td>\n",
       "      <td>0</td>\n",
       "      <td>0</td>\n",
       "      <td>1</td>\n",
       "      <td>0</td>\n",
       "      <td>0</td>\n",
       "      <td>0</td>\n",
       "      <td>0</td>\n",
       "      <td>0</td>\n",
       "      <td>0</td>\n",
       "      <td>0</td>\n",
       "      <td>0</td>\n",
       "      <td>0</td>\n",
       "      <td>0</td>\n",
       "      <td>1</td>\n",
       "      <td>0</td>\n",
       "    </tr>\n",
       "    <tr>\n",
       "      <th>9997</th>\n",
       "      <td>0</td>\n",
       "      <td>1</td>\n",
       "      <td>102</td>\n",
       "      <td>0</td>\n",
       "      <td>0</td>\n",
       "      <td>1</td>\n",
       "      <td>0</td>\n",
       "      <td>0</td>\n",
       "      <td>0</td>\n",
       "      <td>1</td>\n",
       "      <td>0</td>\n",
       "      <td>0</td>\n",
       "      <td>0</td>\n",
       "      <td>0</td>\n",
       "      <td>0</td>\n",
       "      <td>0</td>\n",
       "      <td>0</td>\n",
       "      <td>0</td>\n",
       "      <td>0</td>\n",
       "      <td>1</td>\n",
       "    </tr>\n",
       "    <tr>\n",
       "      <th>9998</th>\n",
       "      <td>0</td>\n",
       "      <td>1</td>\n",
       "      <td>99</td>\n",
       "      <td>1</td>\n",
       "      <td>1</td>\n",
       "      <td>0</td>\n",
       "      <td>1</td>\n",
       "      <td>0</td>\n",
       "      <td>1</td>\n",
       "      <td>1</td>\n",
       "      <td>0</td>\n",
       "      <td>0</td>\n",
       "      <td>1</td>\n",
       "      <td>1</td>\n",
       "      <td>1</td>\n",
       "      <td>0</td>\n",
       "      <td>0</td>\n",
       "      <td>0</td>\n",
       "      <td>0</td>\n",
       "      <td>2</td>\n",
       "    </tr>\n",
       "  </tbody>\n",
       "</table>\n",
       "<p>9999 rows × 20 columns</p>\n",
       "</div>"
      ],
      "text/plain": [
       "      Age  Gender  Body_temperature  Dry_cough  Sore_throat  Weakness  \\\n",
       "0       1       0               102          0            0         1   \n",
       "1       0       0                99          0            0         0   \n",
       "2       1       1               100          0            1         1   \n",
       "3       1       1                99          0            0         0   \n",
       "4       0       0               101          0            0         0   \n",
       "...   ...     ...               ...        ...          ...       ...   \n",
       "9994    1       1               103          0            1         0   \n",
       "9995    0       1                99          1            1         1   \n",
       "9996    0       1                99          1            0         0   \n",
       "9997    0       1               102          0            0         1   \n",
       "9998    0       1                99          1            1         0   \n",
       "\n",
       "      Breathing_problem  Drowsiness  Pain_in_chest  \\\n",
       "0                     0           1              0   \n",
       "1                     0           0              0   \n",
       "2                     1           0              1   \n",
       "3                     1           0              0   \n",
       "4                     0           0              0   \n",
       "...                 ...         ...            ...   \n",
       "9994                  1           0              1   \n",
       "9995                  1           0              1   \n",
       "9996                  0           1              0   \n",
       "9997                  0           0              0   \n",
       "9998                  1           0              1   \n",
       "\n",
       "      Travel_history_to_infected_countries  Diabetes  Heart_disease  \\\n",
       "0                                        0         1              1   \n",
       "1                                        1         1              0   \n",
       "2                                        1         0              0   \n",
       "3                                        1         0              0   \n",
       "4                                        0         0              0   \n",
       "...                                    ...       ...            ...   \n",
       "9994                                     1         0              0   \n",
       "9995                                     0         0              0   \n",
       "9996                                     0         0              0   \n",
       "9997                                     1         0              0   \n",
       "9998                                     1         0              0   \n",
       "\n",
       "      Lung_disease  Stroke_or_reduced_immunity  Symptoms_progressed  \\\n",
       "0                0                           0                    0   \n",
       "1                0                           0                    1   \n",
       "2                0                           0                    0   \n",
       "3                1                           0                    1   \n",
       "4                0                           0                    1   \n",
       "...            ...                         ...                  ...   \n",
       "9994             0                           0                    1   \n",
       "9995             1                           1                    0   \n",
       "9996             0                           0                    0   \n",
       "9997             0                           0                    0   \n",
       "9998             1                           1                    1   \n",
       "\n",
       "      High_blood_pressue  Kidney_disease  Change_in_appetite  \\\n",
       "0                      1               1                   1   \n",
       "1                      1               0                   0   \n",
       "2                      0               0                   0   \n",
       "3                      0               0                   0   \n",
       "4                      0               0                   0   \n",
       "...                  ...             ...                 ...   \n",
       "9994                   0               0                   0   \n",
       "9995                   0               0                   0   \n",
       "9996                   0               0                   0   \n",
       "9997                   0               0                   0   \n",
       "9998                   0               0                   0   \n",
       "\n",
       "      Loss_of_sense_of_smell  Corona_result  \n",
       "0                          0              0  \n",
       "1                          0              1  \n",
       "2                          0              1  \n",
       "3                          1              2  \n",
       "4                          0              0  \n",
       "...                      ...            ...  \n",
       "9994                       1              2  \n",
       "9995                       0              1  \n",
       "9996                       1              0  \n",
       "9997                       0              1  \n",
       "9998                       0              2  \n",
       "\n",
       "[9999 rows x 20 columns]"
      ]
     },
     "execution_count": 180,
     "metadata": {},
     "output_type": "execute_result"
    }
   ],
   "source": [
    "df"
   ]
  },
  {
   "cell_type": "code",
   "execution_count": null,
   "id": "5e45a507-6281-43c7-a652-40eacdf72c5a",
   "metadata": {},
   "outputs": [
    {
     "data": {
      "application/vnd.jupyter.widget-view+json": {
       "model_id": "f81439f5370e47bc8031dcbaa59ed721",
       "version_major": 2,
       "version_minor": 0
      },
      "text/plain": [
       "Summarize dataset:   0%|          | 0/5 [00:00<?, ?it/s]"
      ]
     },
     "metadata": {},
     "output_type": "display_data"
    },
    {
     "data": {
      "application/vnd.jupyter.widget-view+json": {
       "model_id": "6bf13975882043c3b1bb4cb8bdf91f5c",
       "version_major": 2,
       "version_minor": 0
      },
      "text/plain": [
       "Generate report structure:   0%|          | 0/1 [00:00<?, ?it/s]"
      ]
     },
     "metadata": {},
     "output_type": "display_data"
    }
   ],
   "source": [
    "df.profile_report()"
   ]
  },
  {
   "cell_type": "code",
   "execution_count": null,
   "id": "23c57302-6a54-4ee4-a964-31759fe7dc62",
   "metadata": {},
   "outputs": [],
   "source": [
    "df.info()"
   ]
  },
  {
   "cell_type": "code",
   "execution_count": null,
   "id": "353b0e8f-98f1-4234-9557-a4a1e059cd62",
   "metadata": {},
   "outputs": [],
   "source": [
    "df.describe(include='all')\n"
   ]
  },
  {
   "cell_type": "code",
   "execution_count": null,
   "id": "b065798a-fcaa-45a9-b7c6-1da694232eb3",
   "metadata": {},
   "outputs": [],
   "source": [
    "df['Corona_result'] = df['Corona_result'].replace([0,1],0)\n",
    "df['Corona_result'] = df['Corona_result'].replace([2],1)"
   ]
  },
  {
   "cell_type": "code",
   "execution_count": null,
   "id": "b49fadaa-d34c-4f04-a6af-4c30e9eb1132",
   "metadata": {},
   "outputs": [],
   "source": [
    "df"
   ]
  },
  {
   "cell_type": "code",
   "execution_count": null,
   "id": "238e03f2-4e2e-4c3e-88ed-7b2908f1b9ec",
   "metadata": {},
   "outputs": [],
   "source": [
    "df.info()"
   ]
  },
  {
   "cell_type": "code",
   "execution_count": null,
   "id": "9dd5dc77-9428-4f01-94df-4844cbcc51bc",
   "metadata": {},
   "outputs": [],
   "source": [
    "df.tail()"
   ]
  },
  {
   "cell_type": "markdown",
   "id": "2541cedd-652d-4902-a66f-7a8b8fb4e862",
   "metadata": {},
   "source": [
    "Column wise exploratory data analysis"
   ]
  },
  {
   "cell_type": "code",
   "execution_count": null,
   "id": "0812dba9-f258-4aec-a42c-fab791a68b88",
   "metadata": {},
   "outputs": [],
   "source": [
    "from sklearn.preprocessing import LabelEncoder\n",
    "e=LabelEncoder()"
   ]
  },
  {
   "cell_type": "code",
   "execution_count": null,
   "id": "9fd92d5d-5d5a-4c8b-be53-25946ed03c78",
   "metadata": {},
   "outputs": [],
   "source": [
    "df['Gender']=e.fit_transform(df['Gender'])\n",
    "\n",
    "df['Dry_cough']=e.fit_transform(df['Dry_cough'])\n",
    "\n",
    "df['Sore_throat']=e.fit_transform(df['Sore_throat'])\n",
    "\n",
    "df['Weakness']=e.fit_transform(df['Weakness'])\n",
    "\n",
    "df['Breathing_problem']=e.fit_transform(df['Breathing_problem'])\n",
    "\n",
    "df['Drowsiness']=e.fit_transform(df['Drowsiness'])\n",
    "\n",
    "df['Pain_in_chest']=e.fit_transform(df['Pain_in_chest'])\n",
    "\n",
    "df['Travel_history_to_infected_countries']=e.fit_transform(df['Travel_history_to_infected_countries'])\n",
    "\n",
    "df['Diabetes']=e.fit_transform(df['Diabetes'])\n",
    "\n",
    "df['Heart_disease']=e.fit_transform(df['Heart_disease'])\n",
    "\n",
    "df['Lung_disease']=e.fit_transform(df['Lung_disease'])\n",
    "\n",
    "df['Stroke_or_reduced_immunity']=e.fit_transform(df['Stroke_or_reduced_immunity'])\n",
    "\n",
    "df['Symptoms_progressed']=e.fit_transform(df['Symptoms_progressed'])\n",
    "\n",
    "df['High_blood_pressue']=e.fit_transform(df['High_blood_pressue'])\n",
    "\n",
    "df['Kidney_disease']=e.fit_transform(df['Kidney_disease'])\n",
    "\n",
    "df['Change_in_appetite']=e.fit_transform(df['Change_in_appetite'])\n",
    "\n",
    "df['Loss_of_sense_of_smell']=e.fit_transform(df['Loss_of_sense_of_smell'])\n"
   ]
  },
  {
   "cell_type": "code",
   "execution_count": null,
   "id": "dca76bbf-baf5-446c-8292-ca705f041bb0",
   "metadata": {},
   "outputs": [],
   "source": [
    "df.info()"
   ]
  },
  {
   "cell_type": "markdown",
   "id": "79122500-75b1-4115-9228-516f206a3334",
   "metadata": {},
   "source": [
    "Correlation Matrix\n"
   ]
  },
  {
   "cell_type": "code",
   "execution_count": null,
   "id": "a3838033-d071-4f9f-a055-77afad0d089b",
   "metadata": {},
   "outputs": [],
   "source": [
    "plt.rcParams['axes.grid'] = False\n",
    "f = plt.figure(figsize=(20,30))\n",
    "plt.matshow(df.corr(), fignum=f.number)\n",
    "plt.xticks(range(df.select_dtypes(['number']).shape[1]), df.select_dtypes(['number']).columns, fontsize=14, rotation=90)\n",
    "plt.yticks(range(df.select_dtypes(['number']).shape[1]), df.select_dtypes(['number']).columns, fontsize=14)\n",
    "cb = plt.colorbar()\n",
    "cb.ax.tick_params(labelsize=14)\n",
    "plt.title('Correlation Matrix', fontsize=16);\n"
   ]
  },
  {
   "cell_type": "code",
   "execution_count": null,
   "id": "50e95bee-b2ea-4e11-bb53-11438715dee8",
   "metadata": {},
   "outputs": [],
   "source": [
    "corr=df.corr()"
   ]
  },
  {
   "cell_type": "code",
   "execution_count": null,
   "id": "027d857b-e982-4dde-accd-3d2ea3297969",
   "metadata": {},
   "outputs": [],
   "source": [
    "plt.figure(figsize=(15,10))\n",
    "sns.heatmap(corr, annot = True, cmap=\"YlGn\")  # visualise the correlation matrix"
   ]
  },
  {
   "cell_type": "code",
   "execution_count": null,
   "id": "c5c7da3a-9fa6-4674-8ba5-10da94693758",
   "metadata": {},
   "outputs": [],
   "source": [
    "# k-best method\n",
    "from sklearn.feature_selection import SelectKBest\n",
    "from sklearn.feature_selection import chi2 "
   ]
  },
  {
   "cell_type": "code",
   "execution_count": null,
   "id": "a00ebacb-2d90-407b-a5a4-17dd1a80612b",
   "metadata": {},
   "outputs": [],
   "source": [
    "# specify inputs 'x' and output 'y' attributes - target value\n",
    "X = df.drop(['Corona_result'],axis=1)\n",
    "y = df['Corona_result']"
   ]
  },
  {
   "cell_type": "code",
   "execution_count": null,
   "id": "7530be3c-89dc-4e46-8272-d0dce1b0fa39",
   "metadata": {},
   "outputs": [],
   "source": [
    "# passing x and y as inputs to the k-best method\n",
    "k = SelectKBest(score_func = chi2, k = 'all')\n",
    "features = k.fit(X,y)"
   ]
  },
  {
   "cell_type": "code",
   "execution_count": null,
   "id": "f8b9cd89-bc66-4aea-8231-a3b3f52c7a94",
   "metadata": {},
   "outputs": [],
   "source": [
    "\n",
    "orders = pd.DataFrame(features.scores_, columns=['scores'])"
   ]
  },
  {
   "cell_type": "code",
   "execution_count": null,
   "id": "de9d0a63-a8ff-44a8-8980-ad9b705c69a2",
   "metadata": {},
   "outputs": [],
   "source": [
    "\n",
    "df_columns = pd.DataFrame(X.columns, columns = ['Feature_name'])"
   ]
  },
  {
   "cell_type": "code",
   "execution_count": null,
   "id": "7dc2186d-f6fd-490c-abba-fe7b93d806ee",
   "metadata": {},
   "outputs": [],
   "source": [
    "#combining the above two feature dataframe into a dataframe\n",
    "feature_rank = pd.concat([orders,df_columns],axis=1) # combine the two dataFrames"
   ]
  },
  {
   "cell_type": "code",
   "execution_count": null,
   "id": "01987477-baf8-4850-9ec6-1d89516ca89e",
   "metadata": {},
   "outputs": [],
   "source": [
    "#ranks and the chi2 scoring func for the 19 attribute columns\n",
    "feature_rank.nlargest(19,'scores')"
   ]
  },
  {
   "cell_type": "code",
   "execution_count": null,
   "id": "cf4e6d40-1ae1-4645-8ac1-d6959997147d",
   "metadata": {},
   "outputs": [],
   "source": [
    "df=df.drop(columns=['Age', 'High_blood_pressue','Gender','Symptoms_progressed','Body_temperature','Weakness','Drowsiness'])"
   ]
  },
  {
   "cell_type": "code",
   "execution_count": null,
   "id": "4be0e50d-ecc5-4bfd-a70b-091ff499a57a",
   "metadata": {},
   "outputs": [],
   "source": [
    "df"
   ]
  },
  {
   "cell_type": "code",
   "execution_count": null,
   "id": "646796f4-db73-4d06-bc0e-87fa3edea1cf",
   "metadata": {},
   "outputs": [],
   "source": [
    "df.info()\n",
    "df.describe()"
   ]
  },
  {
   "cell_type": "code",
   "execution_count": null,
   "id": "ba3460f8-5ab1-452e-9963-32353193f6aa",
   "metadata": {},
   "outputs": [],
   "source": [
    "# Undersampling before cross validating (prone to overfit)\n",
    "x = df.drop('Lung_disease', axis=1)\n",
    "y = df['Lung_disease']"
   ]
  },
  {
   "cell_type": "markdown",
   "id": "837d0649-e854-44f3-88ed-502d2be57def",
   "metadata": {},
   "source": [
    "\n",
    "\n",
    "### Extra trees classifier"
   ]
  },
  {
   "cell_type": "code",
   "execution_count": null,
   "id": "a2176fef-a431-426c-afe1-4ec97bbc3b1a",
   "metadata": {},
   "outputs": [],
   "source": [
    "from sklearn.ensemble import ExtraTreesClassifier # this is a method alternative to k-best"
   ]
  },
  {
   "cell_type": "code",
   "execution_count": null,
   "id": "5ed4f8f9-4f02-454b-b26c-2db384a7393b",
   "metadata": {},
   "outputs": [],
   "source": [
    "# initialise the method\n",
    "\n",
    "model = ExtraTreesClassifier()\n",
    "model.fit(x,y) # pass the input and output data to the method"
   ]
  },
  {
   "cell_type": "code",
   "execution_count": null,
   "id": "cca174ee-07d6-432e-bdba-d5ada97797a8",
   "metadata": {},
   "outputs": [],
   "source": [
    "model.feature_importances_  # compute the scores"
   ]
  },
  {
   "cell_type": "code",
   "execution_count": null,
   "id": "6df22845-0750-4eaf-93c6-d16d43bff4de",
   "metadata": {},
   "outputs": [],
   "source": [
    "ranked_features = pd.Series(model.feature_importances_, index = x.columns)  # put the scores in a series"
   ]
  },
  {
   "cell_type": "code",
   "execution_count": null,
   "id": "865ce44b-885e-445e-83f6-35b8ffdfaa10",
   "metadata": {},
   "outputs": [],
   "source": [
    "ranked_features.nlargest(11).plot(kind='bar')  # rank and plot the scores"
   ]
  },
  {
   "cell_type": "markdown",
   "id": "86d78f9d-6849-4080-a6bc-715b0fb33bff",
   "metadata": {
    "tags": []
   },
   "source": [
    "\n",
    "### n-fold cross validation with training and test data"
   ]
  },
  {
   "cell_type": "code",
   "execution_count": null,
   "id": "4feb22d7-0afc-4059-b44e-5f052e9ad416",
   "metadata": {},
   "outputs": [],
   "source": [
    "df = df.sample(frac=1, random_state=1)\n",
    "df = df.reset_index(drop=True)\n",
    "df.head()"
   ]
  },
  {
   "cell_type": "code",
   "execution_count": null,
   "id": "0118063e-e0d1-4102-bf26-2f705d1cdc68",
   "metadata": {},
   "outputs": [],
   "source": [
    "#train-test split\n",
    "from sklearn.model_selection import train_test_split\n",
    "x_train,x_test,y_train,y_test = train_test_split(x,y, test_size = 0.2, random_state=42)"
   ]
  },
  {
   "cell_type": "code",
   "execution_count": null,
   "id": "0788904d-a51e-4b84-9b25-db34ecda37aa",
   "metadata": {},
   "outputs": [],
   "source": [
    "# importing the cross-validation library\n",
    "\n",
    "from sklearn.model_selection import cross_val_score"
   ]
  },
  {
   "cell_type": "code",
   "execution_count": null,
   "id": "00f6c8d8-c6bf-4f79-90f1-e4c441fa2858",
   "metadata": {},
   "outputs": [],
   "source": [
    "# function for multiple times using different models and cross validation accuracies\n",
    "\n",
    "def classify(model, x, y):\n",
    "    x_train,x_test,y_train,y_test = train_test_split(x,y, test_size = 0.2, random_state=42)\n",
    "    model.fit(x_train,y_train)\n",
    "    print('Accuracy is: ', model.score(x_test,y_test)*100)\n",
    "    score = cross_val_score(model,x,y,cv=10)                  # we set the number of folds to 2 which is the standard\n",
    "    print('Cross validation Accuaracy: ', np.mean(score)*100)"
   ]
  },
  {
   "cell_type": "code",
   "execution_count": null,
   "id": "7e6bc9cb-6b79-4726-82a6-ad097fcf6ea2",
   "metadata": {},
   "outputs": [],
   "source": [
    "# initialising logistic regression\n",
    "\n",
    "from sklearn.linear_model import LogisticRegression\n",
    "LG_model = LogisticRegression()\n",
    "classify(LG_model, x,y)  # pass logistic regression as the model, along with x and y, to the 'classify' function"
   ]
  },
  {
   "cell_type": "code",
   "execution_count": null,
   "id": "fc87546e-fc54-4e70-89dc-3e299b809977",
   "metadata": {},
   "outputs": [],
   "source": [
    "# initialising SVC\n",
    "\n",
    "from sklearn.svm import SVC\n",
    "SVC_model = SVC(kernel='linear', C = 10)\n",
    "classify(SVC_model, x,y)"
   ]
  },
  {
   "cell_type": "code",
   "execution_count": null,
   "id": "86e51656-c5de-4ba1-9cce-1601d237ffbe",
   "metadata": {},
   "outputs": [],
   "source": [
    "# initialising kNN\n",
    "\n",
    "from sklearn.neighbors import KNeighborsClassifier\n",
    "knn_model = KNeighborsClassifier(n_neighbors=6)\n",
    "classify(knn_model,x,y)"
   ]
  },
  {
   "cell_type": "code",
   "execution_count": null,
   "id": "98da656c-4b18-49fe-b366-961cf01a5b62",
   "metadata": {},
   "outputs": [],
   "source": [
    "(x_train.shape, y_train.shape), (x_test.shape, y_test.shape)"
   ]
  },
  {
   "cell_type": "code",
   "execution_count": null,
   "id": "3ab18d25-2765-4b70-b7a0-16663cf98578",
   "metadata": {},
   "outputs": [],
   "source": [
    "from sklearn.preprocessing import StandardScaler\n",
    "\n",
    "scaler = StandardScaler().fit(x_train)\n",
    "\n",
    "x_train = scaler.transform(x_train)\n",
    "x_test = scaler.transform(x_test)\n",
    "\n",
    "x_test[:2]"
   ]
  },
  {
   "cell_type": "markdown",
   "id": "c72af651-33f0-423d-ac81-e9dcd5fa3a2a",
   "metadata": {},
   "source": [
    "Confusion matrix"
   ]
  },
  {
   "cell_type": "code",
   "execution_count": null,
   "id": "1315905e-9015-409f-b3a7-2a266936ccc6",
   "metadata": {},
   "outputs": [],
   "source": [
    "from sklearn.linear_model import LogisticRegression\n",
    "\n",
    "model = LogisticRegression().fit(x_train, y_train)\n",
    "\n",
    "test_predictions = model.predict(x_test)\n"
   ]
  },
  {
   "cell_type": "code",
   "execution_count": null,
   "id": "85cce203-8869-4b95-b227-84586594e8c1",
   "metadata": {},
   "outputs": [],
   "source": [
    "from sklearn.metrics import confusion_matrix, ConfusionMatrixDisplay\n",
    "cm = confusion_matrix(y_test, test_predictions, labels=[0,1])\n",
    "disp = ConfusionMatrixDisplay(confusion_matrix=cm)\n",
    "disp.plot()"
   ]
  },
  {
   "cell_type": "markdown",
   "id": "a17e4ad7-ed69-4e0c-adfe-2eb784f5d760",
   "metadata": {},
   "source": [
    "Accuracy, precision, recall and F1 scores"
   ]
  },
  {
   "cell_type": "code",
   "execution_count": null,
   "id": "eaedeb28-3e2e-44a3-844f-3693b43d2df6",
   "metadata": {},
   "outputs": [],
   "source": [
    "tn, fp, fn, tp = cm.ravel()\n",
    "\n",
    "s = \"\"\"\n",
    "True Negatives: {0}\n",
    "False Positives: {1}\n",
    "False Negatives: {2}\n",
    "True Positives: {3}\n",
    "\"\"\".format(tn, fp, fn, tp)\n",
    "\n",
    "print(s)"
   ]
  },
  {
   "cell_type": "markdown",
   "id": "caf3a3b4-c61e-4da6-a444-70060cfce97a",
   "metadata": {},
   "source": [
    "Accuracy"
   ]
  },
  {
   "cell_type": "code",
   "execution_count": null,
   "id": "cd0e5a23-462b-48ed-8942-2ba33d4d20ea",
   "metadata": {},
   "outputs": [],
   "source": [
    "def accuracy(tn, fp, fn, tp):\n",
    "    return (tp + tn) / (tp + tn + fp + fn)\n",
    "\n",
    "\"Accuracy: {0}\".format(accuracy(tn, fp, fn, tp))"
   ]
  },
  {
   "cell_type": "markdown",
   "id": "6a1d6d86-b956-4f44-b1d6-a28e5f6c2c28",
   "metadata": {},
   "source": [
    "Recall"
   ]
  },
  {
   "cell_type": "code",
   "execution_count": null,
   "id": "c4c86df4-d3b6-428b-b530-381ed69d5133",
   "metadata": {},
   "outputs": [],
   "source": [
    "def tpr(tn, fp, fn, tp):\n",
    "    return tp / (tp + fn)\n",
    "\n",
    "\"True Positive Rate: {0}\".format(tpr(tn, fp, fn, tp))"
   ]
  },
  {
   "cell_type": "markdown",
   "id": "0499dcd5-9a44-4c6f-8177-0600906cdafa",
   "metadata": {},
   "source": [
    "Precision"
   ]
  },
  {
   "cell_type": "code",
   "execution_count": 160,
   "id": "27ceb6b7-8d5e-4400-8ffa-57295cb0c476",
   "metadata": {},
   "outputs": [
    {
     "data": {
      "text/plain": [
       "'Positive Predictive Value: 0.7348484848484849'"
      ]
     },
     "execution_count": 160,
     "metadata": {},
     "output_type": "execute_result"
    }
   ],
   "source": [
    "def ppv(tn, fp, fn, tp):\n",
    "    return tp / (tp + fp)\n",
    "\n",
    "\"Positive Predictive Value: {0}\".format(ppv(tn, fp, fn, tp))"
   ]
  },
  {
   "cell_type": "markdown",
   "id": "696555ec-d3b7-4b55-b17f-0aa5b8c83c29",
   "metadata": {},
   "source": [
    "F1 score"
   ]
  },
  {
   "cell_type": "code",
   "execution_count": 161,
   "id": "4298c452-e861-4963-a902-bd9ccf24f2eb",
   "metadata": {},
   "outputs": [
    {
     "data": {
      "text/plain": [
       "'F1 Score: 0.5052083333333334'"
      ]
     },
     "execution_count": 161,
     "metadata": {},
     "output_type": "execute_result"
    }
   ],
   "source": [
    "def f1(tn, fp, fn, tp):\n",
    "    p = ppv(tn, fp, fn, tp)\n",
    "    r = tpr(tn, fp, fn, tp)\n",
    "  \n",
    "    return (2*p*r) / (p + r)\n",
    "\n",
    "\"F1 Score: {0}\".format(f1(tn, fp, fn, tp))"
   ]
  },
  {
   "cell_type": "code",
   "execution_count": 162,
   "id": "336a7005-766f-458f-acaf-47a70c2541da",
   "metadata": {},
   "outputs": [
    {
     "data": {
      "text/plain": [
       "LogisticRegression()"
      ]
     },
     "execution_count": 162,
     "metadata": {},
     "output_type": "execute_result"
    }
   ],
   "source": [
    "from sklearn.linear_model import LogisticRegression\n",
    "from sklearn.model_selection import cross_val_score\n",
    "from sklearn import metrics\n",
    "\n",
    "model_LR= LogisticRegression()\n",
    "model_LR.fit(x_train,y_train)"
   ]
  },
  {
   "cell_type": "code",
   "execution_count": 163,
   "id": "87a1472a-2fcb-4672-a1e2-75314360749b",
   "metadata": {},
   "outputs": [
    {
     "data": {
      "text/plain": [
       "1.0"
      ]
     },
     "execution_count": 163,
     "metadata": {},
     "output_type": "execute_result"
    }
   ],
   "source": [
    "y_prob = model_LR.predict_proba(x_test)[:,1] # This will give you positive class prediction probabilities  \n",
    "y_pred = np.where(y_prob > 0.5, 1, 0) # This will threshold the probabilities to give class predictions.\n",
    "model_LR.score(x_test, y_pred)"
   ]
  },
  {
   "cell_type": "code",
   "execution_count": 164,
   "id": "42dd8513-fea2-4bae-a722-148e09c9ccc3",
   "metadata": {},
   "outputs": [
    {
     "data": {
      "text/plain": [
       "array([[1713,   35],\n",
       "       [ 155,   97]])"
      ]
     },
     "execution_count": 164,
     "metadata": {},
     "output_type": "execute_result"
    }
   ],
   "source": [
    "confusion_matrix=metrics.confusion_matrix(y_test,y_pred)\n",
    "confusion_matrix\n"
   ]
  },
  {
   "cell_type": "code",
   "execution_count": 165,
   "id": "5ffcbe12-1755-47bf-ba84-72e42cfd13b6",
   "metadata": {},
   "outputs": [
    {
     "data": {
      "text/plain": [
       "0.6824488758127202"
      ]
     },
     "execution_count": 165,
     "metadata": {},
     "output_type": "execute_result"
    }
   ],
   "source": [
    "auc_roc=metrics.roc_auc_score(y_test,y_pred)\n",
    "auc_roc"
   ]
  },
  {
   "cell_type": "markdown",
   "id": "1f0871ef-4bee-45b3-89ee-e1284584e70c",
   "metadata": {},
   "source": [
    "ROC Graph"
   ]
  },
  {
   "cell_type": "code",
   "execution_count": 166,
   "id": "ac2cc7f9-c791-4fc8-b093-fe83f077bef3",
   "metadata": {},
   "outputs": [
    {
     "data": {
      "text/plain": [
       "0.831063165159275"
      ]
     },
     "execution_count": 166,
     "metadata": {},
     "output_type": "execute_result"
    }
   ],
   "source": [
    "from sklearn.metrics import roc_curve, auc\n",
    "false_positive_rate, true_positive_rate, thresholds = roc_curve(y_test, y_prob)\n",
    "roc_auc = auc(false_positive_rate, true_positive_rate)\n",
    "roc_auc"
   ]
  },
  {
   "cell_type": "code",
   "execution_count": 167,
   "id": "1986e5d3-89d4-4997-99a6-d2d18e5444c5",
   "metadata": {},
   "outputs": [
    {
     "data": {
      "text/plain": [
       "Text(0.5, 0, 'False Positive Rate')"
      ]
     },
     "execution_count": 167,
     "metadata": {},
     "output_type": "execute_result"
    },
    {
     "data": {
      "image/png": "[encoded data removed]",
      "text/plain": [
       "<Figure size 720x720 with 1 Axes>"
      ]
     },
     "metadata": {
      "needs_background": "light"
     },
     "output_type": "display_data"
    }
   ],
   "source": [
    "import matplotlib.pyplot as plt\n",
    "plt.figure(figsize=(10,10))\n",
    "plt.title('Receiver Operating Characteristic')\n",
    "plt.plot(false_positive_rate,true_positive_rate, color='red',label = 'AUC = %0.2f' % roc_auc)\n",
    "plt.legend(loc = 'lower right')\n",
    "plt.plot([0, 1], [0, 1],linestyle='--')\n",
    "plt.axis('tight')\n",
    "plt.ylabel('True Positive Rate')\n",
    "plt.xlabel('False Positive Rate')"
   ]
  }
 ],
 "metadata": {
  "kernelspec": {
   "display_name": "Python 3 (ipykernel)",
   "language": "python",
   "name": "python3"
  },
  "language_info": {
   "codemirror_mode": {
    "name": "ipython",
    "version": 3
   },
   "file_extension": ".py",
   "mimetype": "text/x-python",
   "name": "python",
   "nbconvert_exporter": "python",
   "pygments_lexer": "ipython3",
   "version": "3.9.7"
  }
 },
 "nbformat": 4,
 "nbformat_minor": 5
}
